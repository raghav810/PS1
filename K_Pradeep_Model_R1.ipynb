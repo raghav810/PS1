{
 "cells": [
  {
   "cell_type": "markdown",
   "metadata": {},
   "source": [
    "#### Libraries for Model"
   ]
  },
  {
   "cell_type": "raw",
   "metadata": {},
   "source": [
    "import numpy as np \n",
    "import pandas as pd\n",
    "from sklearn.model_selection import train_test_split # used for splitting training and testing data\n",
    "from sklearn import preprocessing\n",
    "import matplotlib.pyplot as plt\n",
    "from sklearn import linear_model\n",
    "from sklearn.preprocessing import PolynomialFeatures\n",
    "from sklearn import metrics #Import scikit-learn metrics module for accuracy calculation\n",
    "from sklearn.metrics import mean_squared_error \n",
    "from sklearn.metrics import r2_score\n",
    "from sklearn.metrics import mean_absolute_error\n",
    "from sklearn.tree import DecisionTreeClassifier # Import Decision Tree Classifier"
   ]
  },
  {
   "cell_type": "markdown",
   "metadata": {},
   "source": [
    "### Import X,y Data for Train_Test_Split"
   ]
  },
  {
   "cell_type": "markdown",
   "metadata": {},
   "source": [
    "X=pd.read_csv ('KP_X.csv')\n",
    "y=pd.read_csv ('KP_y.csv')\n",
    "y=y.replace(to_replace=np.nan,value=0)\n",
    "X_train, X_test, y_train, y_test = train_test_split(X, y, test_size=0.33, random_state=43)\n",
    "X_train.shape, X_test.shape, y_train.shape, y_test.shape "
   ]
  },
  {
   "cell_type": "markdown",
   "metadata": {},
   "source": [
    "### Linear Regression "
   ]
  },
  {
   "cell_type": "markdown",
   "metadata": {},
   "source": [
    "from sklearn.linear_model import LinearRegression\n",
    "lr=LinearRegression()\n",
    "lr.fit(X_train,y_train)\n",
    "y_pred=lr.predict(X_test)\n",
    "y_test.head(),y_pred[0:5]\n",
    "lr.score(X_train,y_train),lr.score(X_test,y_pred)\n",
    "\n",
    "from sklearn.metrics import mean_squared_error \n",
    "mean_squared_error(y_test,y_pred)\n",
    "\n",
    "for idx, col_name in enumerate(X_train.columns):\n",
    "    print(\"The coeffecient for {} is {}\". format(col_name,lr.coef_[0][idx]))\n",
    "    \n",
    "col_name in enumerate(y_train.columns)\n",
    "print(\"The Intercept for {} is {}\". format(col_name,lr.intercept_[0]))\n",
    "\n",
    "plt.plot(y_pred, 'ro')\n",
    "plt.plot(y_test, 'go')\n",
    "#plt.legend()\n",
    "plt.show()"
   ]
  },
  {
   "cell_type": "markdown",
   "metadata": {},
   "source": [
    "### Decision Tree"
   ]
  },
  {
   "cell_type": "markdown",
   "metadata": {},
   "source": [
    "from sklearn.tree import DecisionTreeRegressor  \n",
    "regressor = DecisionTreeRegressor(min_samples_split= 2, max_depth = 10, random_state = 80)  \n",
    "regressor.fit(X_train, y_train)\n",
    "y_pred=regressor.predict(X_test)\n",
    "print('Variance Score Test:', regressor.score(X_train,y_train),regressor.score(X_test,y_pred))\n",
    "\n",
    "plt.plot(y_pred, 'ro')\n",
    "plt.plot(y_test, 'go')\n",
    "#plt.legend()\n",
    "plt.show()"
   ]
  },
  {
   "cell_type": "code",
   "execution_count": 19,
   "metadata": {},
   "outputs": [
    {
     "name": "stderr",
     "output_type": "stream",
     "text": [
      "C:\\ProgramData\\Anaconda3\\lib\\site-packages\\sklearn\\externals\\joblib\\__init__.py:15: DeprecationWarning: sklearn.externals.joblib is deprecated in 0.21 and will be removed in 0.23. Please import this functionality directly from joblib, which can be installed with: pip install joblib. If this warning is raised when loading pickled models, you may need to re-serialize those models with scikit-learn 0.21+.\n",
      "  warnings.warn(msg, category=DeprecationWarning)\n"
     ]
    }
   ],
   "source": [
    "import pandas as pd\n",
    "from sklearn.model_selection import train_test_split\n",
    "from sklearn import ensemble\n",
    "from sklearn.metrics import mean_absolute_error\n",
    "from sklearn.externals import joblib"
   ]
  },
  {
   "cell_type": "code",
   "execution_count": 50,
   "metadata": {},
   "outputs": [
    {
     "data": {
      "text/plain": [
       "((6691, 20), (3297, 20), (6691, 1), (3297, 1))"
      ]
     },
     "execution_count": 50,
     "metadata": {},
     "output_type": "execute_result"
    }
   ],
   "source": [
    "X=pd.read_csv ('KP_X.csv')\n",
    "y=pd.read_csv ('KP_y.csv')\n",
    "y=y.replace(to_replace=np.nan,value=0)\n",
    "X_train, X_test, y_train, y_test = train_test_split(X, y, test_size=0.33, random_state=90)\n",
    "X_train.shape, X_test.shape, y_train.shape, y_test.shape "
   ]
  },
  {
   "cell_type": "code",
   "execution_count": 53,
   "metadata": {},
   "outputs": [
    {
     "name": "stderr",
     "output_type": "stream",
     "text": [
      "C:\\ProgramData\\Anaconda3\\lib\\site-packages\\sklearn\\ensemble\\gradient_boosting.py:1450: DataConversionWarning: A column-vector y was passed when a 1d array was expected. Please change the shape of y to (n_samples, ), for example using ravel().\n",
      "  y = column_or_1d(y, warn=True)\n"
     ]
    },
    {
     "data": {
      "text/plain": [
       "GradientBoostingRegressor(alpha=0.9, criterion='friedman_mse', init=None,\n",
       "                          learning_rate=0.1, loss='huber', max_depth=5,\n",
       "                          max_features=0.1, max_leaf_nodes=None,\n",
       "                          min_impurity_decrease=0.0, min_impurity_split=None,\n",
       "                          min_samples_leaf=5, min_samples_split=2,\n",
       "                          min_weight_fraction_leaf=0.0, n_estimators=1000,\n",
       "                          n_iter_no_change=None, presort='auto',\n",
       "                          random_state=None, subsample=1.0, tol=0.0001,\n",
       "                          validation_fraction=0.1, verbose=0, warm_start=False)"
      ]
     },
     "execution_count": 53,
     "metadata": {},
     "output_type": "execute_result"
    }
   ],
   "source": [
    "# Fit regression model\n",
    "model = ensemble.GradientBoostingRegressor(\n",
    "    n_estimators=1000,\n",
    "    learning_rate=0.1,\n",
    "    max_depth=5,\n",
    "    min_samples_leaf=5,\n",
    "    max_features=0.1,\n",
    "    loss='huber'\n",
    ")\n",
    "model.fit(X_train, y_train)"
   ]
  },
  {
   "cell_type": "code",
   "execution_count": 54,
   "metadata": {},
   "outputs": [
    {
     "name": "stdout",
     "output_type": "stream",
     "text": [
      "0.6259523686282189\n",
      "1.0\n"
     ]
    }
   ],
   "source": [
    "print(model.score(X_train, y_train))\n",
    "y_pred=model.predict(X_test)\n",
    "print(model.score(X_test,y_pred))"
   ]
  },
  {
   "cell_type": "code",
   "execution_count": 55,
   "metadata": {},
   "outputs": [
    {
     "data": {
      "text/plain": [
       "['KP_classifier_Mdl.pkl']"
      ]
     },
     "execution_count": 55,
     "metadata": {},
     "output_type": "execute_result"
    }
   ],
   "source": [
    "# Save the trained model to a file so we can use it in other programs\n",
    "joblib.dump(model, 'KP_classifier_Mdl.pkl')"
   ]
  },
  {
   "cell_type": "code",
   "execution_count": 56,
   "metadata": {},
   "outputs": [
    {
     "name": "stdout",
     "output_type": "stream",
     "text": [
      "Training Set Mean Absolute Error: 0.0336\n"
     ]
    }
   ],
   "source": [
    "# Find the error rate on the training set\n",
    "mse = mean_absolute_error(y_train, model.predict(X_train))\n",
    "print(\"Training Set Mean Absolute Error: %.4f\" % mse)"
   ]
  },
  {
   "cell_type": "code",
   "execution_count": 57,
   "metadata": {},
   "outputs": [
    {
     "name": "stdout",
     "output_type": "stream",
     "text": [
      "Test Set Mean Absolute Error: 0.0537\n"
     ]
    }
   ],
   "source": [
    "# Find the error rate on the test set\n",
    "mse = mean_absolute_error(y_test, model.predict(X_test))\n",
    "print(\"Test Set Mean Absolute Error: %.4f\" % mse)"
   ]
  },
  {
   "cell_type": "code",
   "execution_count": 58,
   "metadata": {},
   "outputs": [],
   "source": [
    "# Load the model we trained previously\n",
    "model = joblib.load('KP_classifier_Mdl.pkl')"
   ]
  },
  {
   "cell_type": "markdown",
   "metadata": {},
   "source": [
    "### Loading Data to check in Model"
   ]
  },
  {
   "cell_type": "code",
   "execution_count": 64,
   "metadata": {},
   "outputs": [],
   "source": [
    "# Read the Actual dataset using Pandas to check the Models\n",
    "df_Act = pd.read_csv(\"WGC_Act.csv\")\n",
    "X=pd.DataFrame(df_Act,index=None, columns=['FCCFPC175.PV','FCCGDI502AM.PV','FCCGFC014.MV','FCCGFC028.MV','FCCGKP501M.PV','FCCGLC501.PV','FCCGPC039.PV','FCCGPDI510.PV','FCCGPI022.PV','FCCGPI023.PV','FCCGPI503.PV','FCCGPI505.PV','FCCGTI507M.PV','FCCGTI518M.PV','FCCGTI521M.PV','FCCGYI501M.PV','FCCGYI503.PV','FCCGYI503M.PV','FCCGYI504.PV','FCCGYI504M.PV'])\n",
    "y=pd.DataFrame(df_Act,index=None, columns=['FCCGLI510.PV'])"
   ]
  },
  {
   "cell_type": "code",
   "execution_count": 60,
   "metadata": {},
   "outputs": [],
   "source": [
    "# Run the model and make a prediction for each house in the homes_to_value array\n",
    "y_pred = model.predict(X)"
   ]
  },
  {
   "cell_type": "code",
   "execution_count": 61,
   "metadata": {},
   "outputs": [
    {
     "data": {
      "text/plain": [
       "[<matplotlib.lines.Line2D at 0x1f2875e9ba8>]"
      ]
     },
     "execution_count": 61,
     "metadata": {},
     "output_type": "execute_result"
    },
    {
     "data": {
      "image/png": "[encoded data removed]",
      "text/plain": [
       "<Figure size 432x288 with 1 Axes>"
      ]
     },
     "metadata": {
      "needs_background": "light"
     },
     "output_type": "display_data"
    }
   ],
   "source": [
    "plt.plot(y_pred,\"ro\")"
   ]
  },
  {
   "cell_type": "markdown",
   "metadata": {},
   "source": [
    "### Risk Ranking "
   ]
  },
  {
   "cell_type": "code",
   "execution_count": 63,
   "metadata": {},
   "outputs": [
    {
     "name": "stdout",
     "output_type": "stream",
     "text": [
      "FCCGDI502AM.PV - 0.05%\n",
      "FCCFPC175.PV - 0.08%\n",
      "FCCGPI503.PV - 0.20%\n",
      "FCCGFC014.MV - 0.70%\n",
      "FCCGPI023.PV - 1.05%\n",
      "FCCGPI022.PV - 1.57%\n",
      "FCCGFC028.MV - 2.98%\n",
      "FCCGTI507M.PV - 3.39%\n",
      "FCCGYI503.PV - 3.98%\n",
      "FCCGPI505.PV - 4.23%\n",
      "FCCGYI504.PV - 4.89%\n",
      "FCCGTI518M.PV - 5.62%\n",
      "FCCGTI521M.PV - 5.68%\n",
      "FCCGLC501.PV - 7.18%\n",
      "FCCGPC039.PV - 7.21%\n",
      "FCCGKP501M.PV - 9.53%\n",
      "FCCGYI501M.PV - 9.73%\n",
      "FCCGPDI510.PV - 10.12%\n",
      "FCCGYI503M.PV - 10.45%\n",
      "FCCGYI504M.PV - 11.37%\n"
     ]
    }
   ],
   "source": [
    "# Create a numpy array based on the model's feature importances\n",
    "importance = model.feature_importances_\n",
    "\n",
    "# Sort the feature labels based on the feature importance rankings from the model\n",
    "feauture_indexes_by_importance = importance.argsort()\n",
    "\n",
    "# Print each feature label, from most important to least important (reverse order)\n",
    "for index in feauture_indexes_by_importance:\n",
    "    print(\"{} - {:.2f}%\".format(X.columns[index], (importance[index] * 100.0)))"
   ]
  },
  {
   "cell_type": "markdown",
   "metadata": {},
   "source": [
    "#### Compare with actual Y once"
   ]
  },
  {
   "cell_type": "code",
   "execution_count": 68,
   "metadata": {},
   "outputs": [
    {
     "data": {
      "text/plain": [
       "((3000, 1), FCCGLI510.PV    3000\n",
       " dtype: int64)"
      ]
     },
     "execution_count": 68,
     "metadata": {},
     "output_type": "execute_result"
    }
   ],
   "source": [
    "y.shape, y.count()"
   ]
  },
  {
   "cell_type": "code",
   "execution_count": 77,
   "metadata": {},
   "outputs": [
    {
     "name": "stdout",
     "output_type": "stream",
     "text": [
      "15 0.6\n",
      "15 th item converted to negative\n",
      "16 1.2\n",
      "16 th item converted to negative\n",
      "17 1.3200000000000016\n",
      "17 th item converted to negative\n",
      "18 1.0799999999999983\n",
      "18 th item converted to negative\n",
      "19 1.0799999999999983\n",
      "19 th item converted to negative\n",
      "20 1.3200000000000016\n",
      "20 th item converted to negative\n",
      "21 1.2\n",
      "21 th item converted to negative\n",
      "22 1.0800000000000067\n",
      "22 th item converted to negative\n",
      "23 0.11999999999999318\n",
      "23 th item converted to negative\n",
      "40 0.12000000000001024\n",
      "40 th item converted to negative\n",
      "56 0.12000000000001024\n",
      "56 th item converted to negative\n",
      "58 0.12000000000001024\n",
      "58 th item converted to negative\n",
      "73 0.11999999999999318\n",
      "73 th item converted to negative\n",
      "100 0.12000000000001024\n",
      "100 th item converted to negative\n",
      "111 0.11999999999999318\n",
      "111 th item converted to negative\n",
      "137 0.12000000000000169\n",
      "137 th item converted to negative\n",
      "177 0.12000000000000169\n",
      "177 th item converted to negative\n",
      "186 0.12000000000000169\n",
      "186 th item converted to negative\n",
      "199 0.11999999999999318\n",
      "199 th item converted to negative\n",
      "201 0.11999999999999318\n",
      "201 th item converted to negative\n",
      "223 0.12000000000000169\n",
      "223 th item converted to negative\n",
      "295 0.12000000000000169\n",
      "295 th item converted to negative\n",
      "354 0.12000000000000169\n",
      "354 th item converted to negative\n",
      "366 0.12000000000000169\n",
      "366 th item converted to negative\n",
      "388 0.12000000000000169\n",
      "388 th item converted to negative\n",
      "431 0.11999999999999318\n",
      "431 th item converted to negative\n",
      "440 0.12000000000000169\n",
      "440 th item converted to negative\n",
      "447 0.12000000000000169\n",
      "447 th item converted to negative\n",
      "455 0.12000000000000169\n",
      "455 th item converted to negative\n",
      "477 0.12000000000000169\n",
      "477 th item converted to negative\n",
      "479 0.12000000000000169\n",
      "479 th item converted to negative\n",
      "511 0.12000000000000169\n",
      "511 th item converted to negative\n",
      "516 0.12000000000000169\n",
      "516 th item converted to negative\n",
      "531 0.12000000000000169\n",
      "531 th item converted to negative\n",
      "535 0.12000000000000169\n",
      "535 th item converted to negative\n",
      "539 0.48000000000000675\n",
      "539 th item converted to negative\n",
      "540 1.9199999999999933\n",
      "540 th item converted to negative\n",
      "541 1.9200000000000017\n",
      "541 th item converted to negative\n",
      "542 2.0400000000000036\n",
      "542 th item converted to negative\n",
      "543 2.0399999999999947\n",
      "543 th item converted to negative\n",
      "544 0.960000000000005\n",
      "544 th item converted to negative\n",
      "561 0.12000000000000169\n",
      "561 th item converted to negative\n",
      "572 0.12000000000000169\n",
      "572 th item converted to negative\n",
      "576 0.12000000000000169\n",
      "576 th item converted to negative\n",
      "605 0.12000000000000169\n",
      "605 th item converted to negative\n",
      "621 0.12000000000000169\n",
      "621 th item converted to negative\n",
      "633 0.12000000000000169\n",
      "633 th item converted to negative\n",
      "636 0.11999999999999318\n",
      "636 th item converted to negative\n",
      "648 0.12000000000000169\n",
      "648 th item converted to negative\n",
      "655 0.12000000000000169\n",
      "655 th item converted to negative\n",
      "659 0.12000000000000169\n",
      "659 th item converted to negative\n",
      "682 0.12000000000000169\n",
      "682 th item converted to negative\n",
      "698 0.11999999999999318\n",
      "698 th item converted to negative\n",
      "709 0.12000000000000169\n",
      "709 th item converted to negative\n",
      "716 0.12000000000000169\n",
      "716 th item converted to negative\n",
      "824 0.24000000000000338\n",
      "824 th item converted to negative\n",
      "825 1.9200000000000017\n",
      "825 th item converted to negative\n",
      "826 1.6799999999999984\n",
      "826 th item converted to negative\n",
      "827 1.9200000000000017\n",
      "827 th item converted to negative\n",
      "828 2.1599999999999966\n",
      "828 th item converted to negative\n",
      "829 0.9599999999999966\n",
      "829 th item converted to negative\n",
      "830 0.24000000000000338\n",
      "830 th item converted to negative\n",
      "910 0.6\n",
      "910 th item converted to negative\n",
      "911 0.9599999999999966\n",
      "911 th item converted to negative\n",
      "912 1.2\n",
      "912 th item converted to negative\n",
      "913 1.0799999999999983\n",
      "913 th item converted to negative\n",
      "914 0.3600000000000051\n",
      "914 th item converted to negative\n",
      "919 0.12000000000000169\n",
      "919 th item converted to negative\n",
      "935 0.12000000000000169\n",
      "935 th item converted to negative\n",
      "946 0.12000000000000169\n",
      "946 th item converted to negative\n",
      "951 0.12000000000000169\n",
      "951 th item converted to negative\n",
      "966 0.11999999999999318\n",
      "966 th item converted to negative\n",
      "975 0.12000000000000169\n",
      "975 th item converted to negative\n",
      "1020 0.12000000000000169\n",
      "1020 th item converted to negative\n",
      "1037 0.12000000000000169\n",
      "1037 th item converted to negative\n",
      "1088 0.12000000000000169\n",
      "1088 th item converted to negative\n",
      "1127 0.4799999999999983\n",
      "1127 th item converted to negative\n",
      "1128 1.4400000000000035\n",
      "1128 th item converted to negative\n",
      "1129 1.3200000000000016\n",
      "1129 th item converted to negative\n",
      "1130 2.0399999999999947\n",
      "1130 th item converted to negative\n",
      "1131 2.4\n",
      "1131 th item converted to negative\n",
      "1132 1.9200000000000017\n",
      "1132 th item converted to negative\n",
      "1133 2.160000000000005\n",
      "1133 th item converted to negative\n",
      "1134 1.67999999999999\n",
      "1134 th item converted to negative\n",
      "1205 0.11999999999999318\n",
      "1205 th item converted to negative\n",
      "1285 0.12000000000000169\n",
      "1285 th item converted to negative\n",
      "1298 0.12000000000000169\n",
      "1298 th item converted to negative\n",
      "1344 0.11999999999999318\n",
      "1344 th item converted to negative\n",
      "1393 0.12000000000000169\n",
      "1393 th item converted to negative\n",
      "1401 1.2\n",
      "1401 th item converted to negative\n",
      "1402 2.4\n",
      "1402 th item converted to negative\n",
      "1403 1.8\n",
      "1403 th item converted to negative\n",
      "1404 2.0400000000000036\n",
      "1404 th item converted to negative\n",
      "1405 1.5599999999999967\n",
      "1405 th item converted to negative\n",
      "1446 0.12000000000000169\n",
      "1446 th item converted to negative\n",
      "1476 0.12000000000000169\n",
      "1476 th item converted to negative\n",
      "1489 0.12000000000000169\n",
      "1489 th item converted to negative\n",
      "1491 0.12000000000000169\n",
      "1491 th item converted to negative\n",
      "1508 0.12000000000000169\n",
      "1508 th item converted to negative\n",
      "1514 0.11999999999999318\n",
      "1514 th item converted to negative\n",
      "1529 0.12000000000000169\n",
      "1529 th item converted to negative\n",
      "1532 0.12000000000000169\n",
      "1532 th item converted to negative\n",
      "1538 0.12000000000000169\n",
      "1538 th item converted to negative\n",
      "1543 0.12000000000000169\n",
      "1543 th item converted to negative\n",
      "1556 0.12000000000000169\n",
      "1556 th item converted to negative\n",
      "1565 0.11999999999999318\n",
      "1565 th item converted to negative\n",
      "1594 0.12000000000000169\n",
      "1594 th item converted to negative\n",
      "1604 0.12000000000000169\n",
      "1604 th item converted to negative\n",
      "1616 0.12000000000000169\n",
      "1616 th item converted to negative\n",
      "1687 1.6799999999999984\n",
      "1687 th item converted to negative\n",
      "1688 2.0400000000000036\n",
      "1688 th item converted to negative\n",
      "1689 1.5599999999999967\n",
      "1689 th item converted to negative\n",
      "1690 2.4\n",
      "1690 th item converted to negative\n",
      "1691 1.6799999999999984\n",
      "1691 th item converted to negative\n",
      "1692 2.0400000000000036\n",
      "1692 th item converted to negative\n",
      "1693 1.9200000000000017\n",
      "1693 th item converted to negative\n",
      "1694 0.23999999999999488\n",
      "1694 th item converted to negative\n",
      "1722 0.11999999999999318\n",
      "1722 th item converted to negative\n",
      "1786 0.12000000000000169\n",
      "1786 th item converted to negative\n",
      "1788 0.12000000000000169\n",
      "1788 th item converted to negative\n",
      "1790 0.12000000000000169\n",
      "1790 th item converted to negative\n",
      "1791 0.6\n",
      "1791 th item converted to negative\n",
      "1792 2.1599999999999966\n",
      "1792 th item converted to negative\n",
      "1793 1.5600000000000052\n",
      "1793 th item converted to negative\n",
      "1813 0.12000000000000169\n",
      "1813 th item converted to negative\n",
      "1884 0.11999999999999318\n",
      "1884 th item converted to negative\n",
      "1986 0.12000000000000169\n",
      "1986 th item converted to negative\n",
      "1991 0.11999999999999318\n",
      "1991 th item converted to negative\n",
      "2032 0.24000000000000338\n",
      "2032 th item converted to negative\n",
      "2033 1.9200000000000017\n",
      "2033 th item converted to negative\n",
      "2034 1.6799999999999984\n",
      "2034 th item converted to negative\n",
      "2035 1.8\n",
      "2035 th item converted to negative\n",
      "2036 2.0399999999999947\n",
      "2036 th item converted to negative\n",
      "2037 2.160000000000005\n",
      "2037 th item converted to negative\n",
      "2038 2.2799999999999985\n",
      "2038 th item converted to negative\n",
      "2039 1.0799999999999983\n",
      "2039 th item converted to negative\n",
      "2040 2.160000000000005\n",
      "2040 th item converted to negative\n",
      "2041 1.8\n",
      "2041 th item converted to negative\n",
      "2042 0.11999999999999318\n",
      "2042 th item converted to negative\n",
      "2073 0.11999999999999318\n",
      "2073 th item converted to negative\n",
      "2148 0.12000000000000169\n",
      "2148 th item converted to negative\n",
      "2167 0.12000000000000169\n",
      "2167 th item converted to negative\n",
      "2171 0.12000000000000169\n",
      "2171 th item converted to negative\n",
      "2176 0.12000000000000169\n",
      "2176 th item converted to negative\n",
      "2193 0.12000000000000169\n",
      "2193 th item converted to negative\n",
      "2204 0.12000000000000169\n",
      "2204 th item converted to negative\n",
      "2238 0.12000000000000169\n",
      "2238 th item converted to negative\n",
      "2293 0.11999999999999318\n",
      "2293 th item converted to negative\n",
      "2305 0.11999999999999318\n",
      "2305 th item converted to negative\n",
      "2306 0.12000000000000169\n",
      "2306 th item converted to negative\n",
      "2307 1.9200000000000017\n",
      "2307 th item converted to negative\n",
      "2308 2.1599999999999966\n",
      "2308 th item converted to negative\n",
      "2309 2.160000000000005\n",
      "2309 th item converted to negative\n",
      "2310 2.1599999999999966\n",
      "2310 th item converted to negative\n",
      "2311 0.6\n",
      "2311 th item converted to negative\n",
      "2312 1.9200000000000017\n",
      "2312 th item converted to negative\n",
      "2313 2.4\n",
      "2313 th item converted to negative\n",
      "2314 2.0400000000000036\n",
      "2314 th item converted to negative\n",
      "2315 2.1599999999999966\n",
      "2315 th item converted to negative\n",
      "2316 0.3599999999999966\n",
      "2316 th item converted to negative\n",
      "2324 0.11999999999999318\n",
      "2324 th item converted to negative\n",
      "2335 0.12000000000001024\n",
      "2335 th item converted to negative\n",
      "2436 0.12000000000001024\n",
      "2436 th item converted to negative\n",
      "2441 0.11999999999999318\n",
      "2441 th item converted to negative\n",
      "2443 0.11999999999999318\n",
      "2443 th item converted to negative\n",
      "2511 0.11999999999999318\n",
      "2511 th item converted to negative\n",
      "2522 0.12000000000000169\n",
      "2522 th item converted to negative\n",
      "2530 0.12000000000000169\n",
      "2530 th item converted to negative\n",
      "2592 1.4400000000000035\n",
      "2592 th item converted to negative\n",
      "2593 2.4\n",
      "2593 th item converted to negative\n",
      "2594 1.9199999999999933\n",
      "2594 th item converted to negative\n",
      "2595 2.4\n",
      "2595 th item converted to negative\n",
      "2596 0.8400000000000034\n",
      "2596 th item converted to negative\n",
      "2619 0.12000000000001024\n",
      "2619 th item converted to negative\n",
      "2657 0.24000000000000338\n",
      "2657 th item converted to negative\n",
      "2658 2.0400000000000036\n",
      "2658 th item converted to negative\n",
      "2659 1.8\n",
      "2659 th item converted to negative\n",
      "2660 0.3599999999999966\n",
      "2660 th item converted to negative\n",
      "2666 0.12000000000001024\n",
      "2666 th item converted to negative\n",
      "2726 0.12000000000000169\n",
      "2726 th item converted to negative\n",
      "2751 0.11999999999999318\n",
      "2751 th item converted to negative\n",
      "2755 0.23999999999999488\n",
      "2755 th item converted to negative\n",
      "2758 0.3599999999999966\n",
      "2758 th item converted to negative\n",
      "2814 0.12000000000000169\n",
      "2814 th item converted to negative\n",
      "2838 0.12000000000000169\n",
      "2838 th item converted to negative\n",
      "2839 0.12000000000000169\n",
      "2839 th item converted to negative\n",
      "2898 0.12000000000000169\n",
      "2898 th item converted to negative\n",
      "2900 0.12000000000000169\n",
      "2900 th item converted to negative\n",
      "2903 0.12000000000000169\n",
      "2903 th item converted to negative\n",
      "2904 1.0799999999999983\n",
      "2904 th item converted to negative\n",
      "2905 1.4399999999999948\n",
      "2905 th item converted to negative\n",
      "2906 1.2\n",
      "2906 th item converted to negative\n",
      "2907 2.880000000000007\n",
      "2907 th item converted to negative\n",
      "2908 1.4399999999999948\n",
      "2908 th item converted to negative\n",
      "2909 2.160000000000005\n",
      "2909 th item converted to negative\n",
      "2910 1.67999999999999\n",
      "2910 th item converted to negative\n",
      "2913 0.12000000000001024\n",
      "2913 th item converted to negative\n",
      "2916 0.12000000000001024\n",
      "2916 th item converted to negative\n",
      "2917 0.11999999999999318\n",
      "2917 th item converted to negative\n",
      "2918 0.3599999999999966\n",
      "2918 th item converted to negative\n",
      "2919 0.12000000000001024\n",
      "2919 th item converted to negative\n",
      "2943 0.11999999999999318\n",
      "2943 th item converted to negative\n",
      "202 are the total records converted\n"
     ]
    }
   ],
   "source": [
    "Y=y['FCCGLI510.PV'].diff()/5*60*24*52.5/210/60 #/2\n",
    "i=0\n",
    "count=0\n",
    "for i in range (3000):\n",
    "    if Y.iloc[i]>0:\n",
    "        print(i,Y.iloc[i])\n",
    "        count+=1\n",
    "        Y.iloc[i]=Y.iloc[i]* -1\n",
    "        print(i,\"th item converted to negative\")\n",
    "print(count, \"are the total records converted\")"
   ]
  },
  {
   "cell_type": "code",
   "execution_count": 78,
   "metadata": {},
   "outputs": [
    {
     "data": {
      "text/plain": [
       "[<matplotlib.lines.Line2D at 0x1f2877b6438>]"
      ]
     },
     "execution_count": 78,
     "metadata": {},
     "output_type": "execute_result"
    },
    {
     "data": {
      "image/png": "[encoded data removed]",
      "text/plain": [
       "<Figure size 432x288 with 1 Axes>"
      ]
     },
     "metadata": {
      "needs_background": "light"
     },
     "output_type": "display_data"
    }
   ],
   "source": [
    "plt.plot(Y,\"bo\")"
   ]
  }
 ],
 "metadata": {
  "kernelspec": {
   "display_name": "Python 3",
   "language": "python",
   "name": "python3"
  },
  "language_info": {
   "codemirror_mode": {
    "name": "ipython",
    "version": 3
   },
   "file_extension": ".py",
   "mimetype": "text/x-python",
   "name": "python",
   "nbconvert_exporter": "python",
   "pygments_lexer": "ipython3",
   "version": "3.7.3"
  }
 },
 "nbformat": 4,
 "nbformat_minor": 2
}
