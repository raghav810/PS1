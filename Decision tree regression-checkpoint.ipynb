{
 "cells": [
  {
   "cell_type": "code",
   "execution_count": 12,
   "metadata": {},
   "outputs": [],
   "source": [
    "import numpy as np \n",
    "import pandas as pd\n",
    "from sklearn.impute import SimpleImputer # used for handling missing data\n",
    "from sklearn.preprocessing import LabelEncoder, OneHotEncoder # used for encoding categorical data\n",
    "from sklearn.preprocessing import StandardScaler  #for feature scaling\n",
    "from sklearn.model_selection import train_test_split # used for splitting training and testing data\n",
    "from sklearn.compose import ColumnTransformer\n",
    "from sklearn import preprocessing\n",
    "import matplotlib.pyplot as plt\n",
    "from sklearn import linear_model\n",
    "from sklearn.preprocessing import PolynomialFeatures\n",
    "from sklearn import metrics #Import scikit-learn metrics module for accuracy calculation\n",
    "from sklearn.metrics import mean_squared_error \n",
    "from sklearn.metrics import r2_score\n",
    "from sklearn.metrics import mean_absolute_error\n",
    "from sklearn.tree import DecisionTreeClassifier # Import Decision Tree Classifier"
   ]
  },
  {
   "cell_type": "code",
   "execution_count": 17,
   "metadata": {},
   "outputs": [],
   "source": [
    "dataset = pd.read_csv('WGC_10000.csv') # to import the dataset into a variable\n",
    "dataset= dataset.dropna(axis=1, thresh= 1)\n",
    "dataset = dataset.dropna(axis=0, thresh= 4)"
   ]
  },
  {
   "cell_type": "code",
   "execution_count": 18,
   "metadata": {},
   "outputs": [],
   "source": [
    "dataset = dataset.fillna(dataset.interpolate())\n",
    "\n",
    "dataset = dataset.loc[:, (dataset!= 0).any(axis=0)]#drop the two 0 valued columns\n",
    "\n",
    "dataset = dataset[dataset.astype('bool').mean(axis=1)>=0.25]#deletes all rows with 75% zeroes\n",
    "dataset_ip = dataset"
   ]
  },
  {
   "cell_type": "code",
   "execution_count": 20,
   "metadata": {},
   "outputs": [],
   "source": [
    "#normalise data between 0 and 1\n",
    "coorinit = dataset.corr()\n",
    "# Create correlation matrix\n",
    "corr_matrix = dataset.corr().abs()\n",
    "\n",
    "# Select upper triangle of correlation matrix\n",
    "upper = corr_matrix.where(np.triu(np.ones(corr_matrix.shape), k=1).astype(np.bool))\n",
    "\n",
    "# Find index of feature columns with correlation greater than 0.95\n",
    "to_drop = [column for column in upper.columns if any(upper[column] > 0.95)]\n",
    "dataset.drop(dataset[to_drop], axis=1,inplace = True)"
   ]
  },
  {
   "cell_type": "code",
   "execution_count": 21,
   "metadata": {},
   "outputs": [
    {
     "name": "stdout",
     "output_type": "stream",
     "text": [
      "0        NaN\n",
      "1        0.0\n",
      "2        0.0\n",
      "3      -28.8\n",
      "4        0.0\n",
      "        ... \n",
      "9994    28.8\n",
      "9995     0.0\n",
      "9996     0.0\n",
      "9997   -28.8\n",
      "9998     0.0\n",
      "Name: Target, Length: 9988, dtype: float64\n"
     ]
    }
   ],
   "source": [
    "datecolumn = dataset['DATE']\n",
    "lubelevel = dataset['FCCGLI510.PV']\n",
    "\n",
    "dataset.drop('DATE',axis = 1,inplace = True)\n",
    "\n",
    "deltas = dataset.diff().drop(0)\n",
    "slope = deltas['FCCGLI510.PV']/5\n",
    "slope = slope*60*24\n",
    "dataset.insert(17, 'Target', slope)\n",
    "dataset.drop('FCCGLI510.PV',axis = 1,inplace = True)\n",
    "\n",
    "dataset[\"Target\"][dataset[\"Target\"]>0] = np.NaN\n",
    "dataset = dataset.interpolate()\n",
    "dataset['Target'] = dataset['Target'].fillna(0)\n",
    "\n",
    "#names = dataset.columns# Create the Scaler object\n",
    "#scaler = preprocessing.StandardScaler()   # Fit your data on the scaler object\n",
    "#scaled_df = scaler.fit_transform(dataset)\n",
    "#scaled_df = pd.DataFrame(scaled_df, columns=names)\n",
    "\n",
    "#dataset = scaled_df\n",
    "\n",
    "#dataset.iloc[:,0:-1] = dataset.iloc[:,0:-1].apply(lambda x: (((x-x.min())*2)/(x.max()-x.min()))-1 , axis=0)\n"
   ]
  },
  {
   "cell_type": "code",
   "execution_count": 6,
   "metadata": {},
   "outputs": [],
   "source": [
    "dataset.drop('Target',axis = 1,inplace = True)\n",
    "X = dataset.loc[:, dataset.columns != 'Target']\n",
    "\n",
    "y = dataset['Target']"
   ]
  },
  {
   "cell_type": "code",
   "execution_count": 8,
   "metadata": {},
   "outputs": [],
   "source": [
    "X_train, X_test, y_train, y_test = train_test_split(X, y, test_size=0.3, random_state=1)"
   ]
  },
  {
   "cell_type": "code",
   "execution_count": 14,
   "metadata": {},
   "outputs": [
    {
     "name": "stdout",
     "output_type": "stream",
     "text": [
      "Variance Score Test: 0.8507041364618664\n"
     ]
    }
   ],
   "source": [
    "from sklearn.tree import DecisionTreeRegressor  \n",
    "# create a regressor object \n",
    "\n",
    "regressor = DecisionTreeRegressor(min_samples_split= 2, max_depth = 10, random_state = 80)  \n",
    "# fit the regressor with X and Y data \n",
    "regressor.fit(X_train, y_train)\n",
    "print('Variance Score Test:', regressor.score(X_test,y_test))\n",
    "\n",
    "y_pred = regressor.predict(X_train)\n"
   ]
  },
  {
   "cell_type": "code",
   "execution_count": 15,
   "metadata": {},
   "outputs": [
    {
     "name": "stdout",
     "output_type": "stream",
     "text": [
      "Variance Score: 0.9964647302659515\n",
      "Variance Score Test: 0.8507041364618664\n"
     ]
    }
   ],
   "source": [
    "print('Variance Score:', format(regressor.score(X_train, y_train)))\n",
    "print('Variance Score Test:', format(regressor.score(X_test, y_test)))"
   ]
  },
  {
   "cell_type": "code",
   "execution_count": 16,
   "metadata": {},
   "outputs": [
    {
     "name": "stdout",
     "output_type": "stream",
     "text": [
      "Training Set Mean Absolute Error : 11.3274\n",
      "Test Set Mean Absolute Error : 16.7712\n"
     ]
    }
   ],
   "source": [
    "from sklearn.externals import joblib\n",
    "joblib.dump(regressor,'Project_Model.pkl')\n",
    "\n",
    "mse = mean_absolute_error(y_train,regressor.predict(X_train))\n",
    "print(\"Training Set Mean Absolute Error : %.4f\" %mse)\n",
    "\n",
    "mse = mean_absolute_error(y_test,regressor.predict(X_test))\n",
    "print(\"Test Set Mean Absolute Error : %.4f\" %mse)\n"
   ]
  },
  {
   "cell_type": "code",
   "execution_count": null,
   "metadata": {},
   "outputs": [],
   "source": []
  }
 ],
 "metadata": {
  "kernelspec": {
   "display_name": "Python 3",
   "language": "python",
   "name": "python3"
  },
  "language_info": {
   "codemirror_mode": {
    "name": "ipython",
    "version": 3
   },
   "file_extension": ".py",
   "mimetype": "text/x-python",
   "name": "python",
   "nbconvert_exporter": "python",
   "pygments_lexer": "ipython3",
   "version": "3.7.6"
  }
 },
 "nbformat": 4,
 "nbformat_minor": 4
}
